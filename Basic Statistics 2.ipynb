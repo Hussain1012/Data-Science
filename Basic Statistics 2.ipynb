{
 "cells": [
  {
   "cell_type": "markdown",
   "id": "b910cd27-3843-432a-9224-63f25868e001",
   "metadata": {},
   "source": [
    "# Estimating the Mean Durability of Print-Heads\n",
    "\n",
    "## Background\n",
    "In quality control processes, especially when dealing with high-value items, destructive sampling is a necessary but costly method to ensure product quality. The manufacturer of print-heads for personal computers is interested in estimating the mean durability of their print-heads in terms of the number of characters printed before failure.\n",
    "\n",
    "## Data\n",
    "A total of 15 print-heads were randomly selected and tested until failure. The durability (in millions of characters) of each print-head was recorded.\n",
    "\n",
    "## Assignment Tasks\n",
    "- **a.** Build a 99% confidence interval using the sample standard deviation.\n",
    "- **b.** Build a 99% confidence interval using the known population standard deviation (if known).\n",
    "## a. 99% Confidence Interval Using Sample Standard Deviation\n",
    "\n",
    "Given the small sample size (n = 15), and assuming that the sample is representative of the population, we will use the t-distribution to construct the confidence interval.\n",
    "## b. 99% Confidence Interval Using Known Population Standard Deviation\n",
    "\n",
    "If the population standard deviation is known to be 0.2 million characters, we use the z-distribution to construct the confidence interval.\n",
    "## Summary of Results\n",
    "- **99% Confidence Interval using Sample Standard Deviation:** (1.09, 1.39) million characters.\n",
    "- **99% Confidence Interval using Known Population Standard Deviation:** (1.11, 1.37) million characters.\n",
    "\n",
    "The confidence interval is slightly narrower when using the known population standard deviation, indicating reduced uncertainty when population parameters are known.\n"
   ]
  },
  {
   "cell_type": "code",
   "execution_count": 1,
   "id": "f50793cd-429b-43cc-b9c3-5b87f07eabdd",
   "metadata": {},
   "outputs": [
    {
     "data": {
      "text/plain": [
       "(1.1056514133957607, 1.3716819199375725)"
      ]
     },
     "execution_count": 1,
     "metadata": {},
     "output_type": "execute_result"
    }
   ],
   "source": [
    "import numpy as np\n",
    "import scipy.stats as stats\n",
    "\n",
    "# Data: Durability of print-heads (in millions of characters)\n",
    "durability = np.array([1.13, 1.55, 1.43, 0.92, 1.25, 1.36, 1.32, 0.85, 1.07, 1.48, 1.20, 1.33, 1.18, 1.22, 1.29])\n",
    "\n",
    "# Number of samples\n",
    "n = len(durability)\n",
    "\n",
    "# Sample mean\n",
    "sample_mean = np.mean(durability)\n",
    "\n",
    "# Sample standard deviation\n",
    "sample_std = np.std(durability, ddof=1)\n",
    "\n",
    "sample_mean, sample_std\n",
    "# 99% Confidence Interval Using Sample Standard Deviation\n",
    "confidence_level = 0.99\n",
    "alpha = 1 - confidence_level\n",
    "t_critical = stats.t.ppf(1 - alpha/2, df=n-1)  # t-critical value\n",
    "\n",
    "# Margin of error\n",
    "margin_of_error = t_critical * (sample_std / np.sqrt(n))\n",
    "ci_sample_std = (sample_mean - margin_of_error, sample_mean + margin_of_error)\n",
    "\n",
    "ci_sample_std\n",
    "# Known population standard deviation\n",
    "population_std = 0.2\n",
    "\n",
    "# 99% Confidence Interval Using Known Population Standard Deviation\n",
    "z_critical = stats.norm.ppf(1 - alpha/2)  # z-critical value\n",
    "\n",
    "# Margin of error\n",
    "margin_of_error_population = z_critical * (population_std / np.sqrt(n))\n",
    "ci_population_std = (sample_mean - margin_of_error_population, sample_mean + margin_of_error_population)\n",
    "\n",
    "ci_population_std\n"
   ]
  },
  {
   "cell_type": "code",
   "execution_count": null,
   "id": "deae0878-fd9d-457d-b2bb-2a5da0a0b646",
   "metadata": {},
   "outputs": [],
   "source": []
  }
 ],
 "metadata": {
  "kernelspec": {
   "display_name": "Python 3 (ipykernel)",
   "language": "python",
   "name": "python3"
  },
  "language_info": {
   "codemirror_mode": {
    "name": "ipython",
    "version": 3
   },
   "file_extension": ".py",
   "mimetype": "text/x-python",
   "name": "python",
   "nbconvert_exporter": "python",
   "pygments_lexer": "ipython3",
   "version": "3.12.4"
  }
 },
 "nbformat": 4,
 "nbformat_minor": 5
}
